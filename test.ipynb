{
 "cells": [
  {
   "cell_type": "code",
   "execution_count": 14,
   "metadata": {},
   "outputs": [
    {
     "ename": "error",
     "evalue": "OpenCV(4.6.0) C:\\b\\abs_d8ltn27ay8\\croot\\opencv-suite_1676452046667\\work\\modules\\core\\src\\arithm.cpp:650: error: (-209:Sizes of input arguments do not match) The operation is neither 'array op array' (where arrays have the same size and the same number of channels), nor 'array op scalar', nor 'scalar op array' in function 'cv::arithm_op'\n",
     "output_type": "error",
     "traceback": [
      "\u001b[1;31m---------------------------------------------------------------------------\u001b[0m",
      "\u001b[1;31merror\u001b[0m                                     Traceback (most recent call last)",
      "\u001b[1;32md:\\Acads\\BTP\\BTP2\\learn-fingerprint-processing\\test.ipynb Cell 1\u001b[0m in \u001b[0;36m<cell line: 42>\u001b[1;34m()\u001b[0m\n\u001b[0;32m     <a href='vscode-notebook-cell:/d%3A/Acads/BTP/BTP2/learn-fingerprint-processing/test.ipynb#W0sZmlsZQ%3D%3D?line=39'>40</a>\u001b[0m endings_bgr \u001b[39m=\u001b[39m cv2\u001b[39m.\u001b[39mcvtColor(endings_resized, cv2\u001b[39m.\u001b[39mCOLOR_GRAY2BGR)\n\u001b[0;32m     <a href='vscode-notebook-cell:/d%3A/Acads/BTP/BTP2/learn-fingerprint-processing/test.ipynb#W0sZmlsZQ%3D%3D?line=40'>41</a>\u001b[0m bifurcations_bgr \u001b[39m=\u001b[39m cv2\u001b[39m.\u001b[39mcvtColor(bifurcations_resized, cv2\u001b[39m.\u001b[39mCOLOR_GRAY2BGR)\n\u001b[1;32m---> <a href='vscode-notebook-cell:/d%3A/Acads/BTP/BTP2/learn-fingerprint-processing/test.ipynb#W0sZmlsZQ%3D%3D?line=41'>42</a>\u001b[0m img_with_endings \u001b[39m=\u001b[39m cv2\u001b[39m.\u001b[39;49maddWeighted(img, \u001b[39m0.5\u001b[39;49m, endings_bgr, \u001b[39m0.5\u001b[39;49m, \u001b[39m0\u001b[39;49m)\n\u001b[0;32m     <a href='vscode-notebook-cell:/d%3A/Acads/BTP/BTP2/learn-fingerprint-processing/test.ipynb#W0sZmlsZQ%3D%3D?line=42'>43</a>\u001b[0m img_with_bifurcations \u001b[39m=\u001b[39m cv2\u001b[39m.\u001b[39maddWeighted(img, \u001b[39m0.5\u001b[39m, bifurcations_bgr, \u001b[39m0.5\u001b[39m, \u001b[39m0\u001b[39m)\n\u001b[0;32m     <a href='vscode-notebook-cell:/d%3A/Acads/BTP/BTP2/learn-fingerprint-processing/test.ipynb#W0sZmlsZQ%3D%3D?line=44'>45</a>\u001b[0m \u001b[39m# Display the images\u001b[39;00m\n",
      "\u001b[1;31merror\u001b[0m: OpenCV(4.6.0) C:\\b\\abs_d8ltn27ay8\\croot\\opencv-suite_1676452046667\\work\\modules\\core\\src\\arithm.cpp:650: error: (-209:Sizes of input arguments do not match) The operation is neither 'array op array' (where arrays have the same size and the same number of channels), nor 'array op scalar', nor 'scalar op array' in function 'cv::arithm_op'\n"
     ]
    }
   ],
   "source": [
    "import cv2\n",
    "import numpy as np\n",
    "\n",
    "# Load the image\n",
    "img = cv2.imread('skeletonized_image.png', cv2.IMREAD_GRAYSCALE)\n",
    "\n",
    "# Threshold the image\n",
    "_, img_thresh = cv2.threshold(img, 0, 255, cv2.THRESH_BINARY+cv2.THRESH_OTSU)\n",
    "\n",
    "# Minutiae extraction function using the crossing number algorithm\n",
    "def minutiae(img):\n",
    "    # Create a 3x3 kernel for local neighborhood operations\n",
    "    kernel = cv2.getStructuringElement(cv2.MORPH_RECT, (3, 3))\n",
    "    \n",
    "    # Create a binary image with white pixels on ridge points and black pixels elsewhere\n",
    "    img_thin = cv2.ximgproc.thinning(img, cv2.ximgproc.THINNING_GUOHALL)\n",
    "    \n",
    "    # Count the number of black pixels in the 3x3 neighborhood around each pixel\n",
    "    cn = cv2.filter2D(img_thin, -1, kernel, borderType=cv2.BORDER_CONSTANT)\n",
    "    \n",
    "    # Create a mask for ridge endings\n",
    "    mask_endings = np.zeros(img.shape, np.uint8)\n",
    "    mask_endings[cn == 1] = 255\n",
    "    \n",
    "    # Create a mask for bifurcations\n",
    "    mask_bifurcations = np.zeros(img.shape, np.uint8)\n",
    "    mask_bifurcations[cn == 3] = 255\n",
    "    \n",
    "    # Return the masks for ridge endings and bifurcations\n",
    "    return mask_endings, mask_bifurcations\n",
    "\n",
    "# Extract the minutiae points\n",
    "endings, bifurcations = minutiae(img_thresh)\n",
    "\n",
    "# Resize the masks to have the same shape as the original image\n",
    "endings_resized = endings_resized.astype(np.uint8)\n",
    "bifurcations_resized = bifurcations_resized.astype(np.uint8)\n",
    "\n",
    "# Draw the minutiae points on the original image\n",
    "endings_bgr = cv2.cvtColor(endings_resized, cv2.COLOR_GRAY2BGR)\n",
    "bifurcations_bgr = cv2.cvtColor(bifurcations_resized, cv2.COLOR_GRAY2BGR)\n",
    "img_with_endings = cv2.add(img, endings_bgr)\n",
    "img_with_bifurcations = cv2.add(img, bifurcations_bgr)\n",
    "\n",
    "# Display the images\n",
    "cv2.imshow('Endings', img_with_endings)\n"
   ]
  },
  {
   "cell_type": "code",
   "execution_count": 13,
   "metadata": {},
   "outputs": [
    {
     "name": "stdout",
     "output_type": "stream",
     "text": [
      "uint8\n",
      "uint8\n",
      "uint8\n"
     ]
    }
   ],
   "source": [
    "print(img.dtype)\n",
    "print(endings_resized.dtype)\n",
    "print(bifurcations_resized.dtype)"
   ]
  }
 ],
 "metadata": {
  "kernelspec": {
   "display_name": "btp",
   "language": "python",
   "name": "python3"
  },
  "language_info": {
   "codemirror_mode": {
    "name": "ipython",
    "version": 3
   },
   "file_extension": ".py",
   "mimetype": "text/x-python",
   "name": "python",
   "nbconvert_exporter": "python",
   "pygments_lexer": "ipython3",
   "version": "3.10.9"
  },
  "orig_nbformat": 4
 },
 "nbformat": 4,
 "nbformat_minor": 2
}
